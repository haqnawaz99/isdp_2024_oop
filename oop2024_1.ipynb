{
 "cells": [
  {
   "cell_type": "markdown",
   "metadata": {},
   "source": [
    "# Object-Oriented Programming (OOP) in Python\n",
    "\n",
    "## What is an Object?\n",
    "An **object** is a \"bundle\" of related attributes (variables) and methods (functions) that work together to represent a real-world concept or entity.\n",
    "\n",
    "For example, consider a **phone**. A phone is an object because it has several characteristics, such as:\n",
    "- **Brand** (e.g., Apple, Samsung)\n",
    "- **Model** (e.g., iPhone 13)\n",
    "- **Color** (e.g., Black)\n",
    "- **Storage** (e.g., 128GB)\n",
    "- **Price** (e.g., $799)\n",
    "\n",
    "These characteristics are known as **attributes** of the phone object. Additionally, the phone may have functionalities like **making a call**, **sending a message**, and **taking a photo**, which are known as **methods**.\n",
    "\n",
    "### Example in Python\n",
    "Let's define an object representing a phone in Python using a **class**:\n",
    "\n",
    "```python\n",
    "# Defining a class as a blueprint for creating phone objects\n",
    "class Phone:\n",
    "    # Constructor method to initialize attributes of the phone object\n",
    "    def __init__(self, brand, model, color, storage, price):\n",
    "        self.brand = brand        # Brand attribute\n",
    "        self.model = model        # Model attribute\n",
    "        self.color = color        # Color attribute\n",
    "        self.storage = storage    # Storage attribute\n",
    "        self.price = price        # Price attribute\n",
    "\n",
    "    # Method to display phone details\n",
    "    def display_details(self):\n",
    "        print(f\"Brand: {self.brand}\")\n",
    "        print(f\"Model: {self.model}\")\n",
    "        print(f\"Color: {self.color}\")\n",
    "        print(f\"Storage: {self.storage}\")\n",
    "        print(f\"Price: ${self.price}\")\n",
    "\n",
    "    # Method to make a call\n",
    "    def make_call(self, contact):\n",
    "        print(f\"Calling {contact} from {self.model}...\")\n",
    "\n",
    "# Creating an instance (object) of the Phone class\n",
    "my_phone = Phone(\"Apple\", \"iPhone 13\", \"Black\", \"128GB\", 799)\n",
    "\n",
    "# Accessing attributes and methods of the phone object\n",
    "my_phone.display_details()\n",
    "my_phone.make_call(\"Alice\")\n"
   ]
  },
  {
   "cell_type": "markdown",
   "metadata": {},
   "source": [
    "## Object Example: Car\n",
    "\n",
    "A **car** can be considered an object in the real world, which has multiple characteristics (attributes) and behaviors (methods). Let's look at some of the common attributes and methods of a car:\n",
    "\n",
    "### Attributes of a Car\n",
    "1. **Brand**: The manufacturer of the car, such as Toyota, Honda, or Tesla.\n",
    "2. **Model**: The specific name or type of the car, like Corolla, Civic, or Model S.\n",
    "3. **Color**: The color of the car, for example, Red, Blue, or White.\n",
    "4. **Engine Type**: The type of engine, such as petrol, diesel, electric, or hybrid.\n",
    "5. **Year**: The manufacturing year of the car, like 2023.\n",
    "6. **Price**: The cost of the car, which could be, for example, $25,000.\n",
    "\n",
    "### Methods of a Car\n",
    "1. **Start Engine**: This action represents starting the car's engine.\n",
    "2. **Stop Engine**: Represents turning off the car's engine.\n",
    "3. **Accelerate**: Increases the speed of the car.\n",
    "4. **Brake**: Decreases the speed or stops the car.\n",
    "5. **Play Music**: Plays music using the car's audio system.\n",
    "6. **Turn Lights On/Off**: Controls the headlights of the car.\n",
    "\n",
    "### Summary\n",
    "A car object has a set of attributes that define its characteristics, such as brand, model, and color. It also has various methods that represent actions it can perform, such as starting the engine or accelerating.\n",
    "\n",
    "By thinking of a car as an object, we can better understand how to represent complex real-world items with their properties and actions using the principles of Object-Oriented Programming.\n"
   ]
  },
  {
   "cell_type": "markdown",
   "metadata": {},
   "source": [
    "## Object Example: Book\n",
    "\n",
    "A **book** can also be considered an object in the real world, which has various characteristics (attributes) and behaviors (methods). Below, we outline some common attributes and methods of a book:\n",
    "\n",
    "### Attributes of a Book\n",
    "1. **Title**: The name of the book, such as \"To Kill a Mockingbird\" or \"The Great Gatsby\".\n",
    "2. **Author**: The person who wrote the book, for example, Harper Lee or F. Scott Fitzgerald.\n",
    "3. **Genre**: The type or category of the book, such as Fiction, Mystery, or Science Fiction.\n",
    "4. **Publisher**: The company responsible for publishing the book, like Penguin Random House or HarperCollins.\n",
    "5. **Publication Year**: The year when the book was published, such as 1960 or 1925.\n",
    "6. **ISBN**: The International Standard Book Number, a unique identifier for the book.\n",
    "7. **Number of Pages**: The total number of pages in the book, for example, 281 pages.\n",
    "\n",
    "### Methods of a Book\n",
    "1. **Open Book**: Represents opening the book to start reading.\n",
    "2. **Close Book**: Represents closing the book after reading.\n",
    "3. **Read Page**: Reads the content of a particular page.\n",
    "4. **Bookmark Page**: Marks a page so the reader can easily return to it later.\n",
    "5. **Get Book Info**: Displays information such as the title, author, and publication year.\n",
    "\n",
    "### Summary\n",
    "A book object has a set of attributes that define its characteristics, such as the title, author, and genre. It also has methods that represent actions related to the book, like opening it or bookmarking a page.\n",
    "\n",
    "By considering a book as an object, we can effectively represent its features and actions using Object-Oriented Programming principles, making it easier to manage in our code.\n"
   ]
  },
  {
   "cell_type": "markdown",
   "metadata": {},
   "source": [
    "# Understanding Class Functions (Methods) in Python\n",
    "\n",
    "## oop folder2\n",
    "\n",
    "## What are Class Functions?\n",
    "In Object-Oriented Programming (OOP), **class functions**, often called **methods**, are functions that belong to a **class**. They define the behavior of the objects created from that class.\n",
    "\n",
    "When we create an instance of a class, we can call these methods to interact with or modify the object's data. Methods are very similar to regular functions, but they have a special connection to the class and its instances.\n",
    "\n",
    "### Types of Methods in a Class\n",
    "1. **Instance Methods**: These methods are the most common type of methods in classes. They operate on **instance variables**, meaning they interact with data specific to a particular instance of a class.\n",
    "2. **Class Methods**: These methods are used when you need to work with **class variables** or need a method that applies to the class as a whole, not just a specific object. They use `@classmethod` decorator and `cls` as the first parameter.\n",
    "3. **Static Methods**: These methods do not operate on class or instance variables and are typically used when the functionality is logically related to the class, but doesn’t involve changing the class or instance state. They use the `@staticmethod` decorator.\n",
    "\n",
    "### Instance Methods\n",
    "- **Instance methods** are defined in the class, and they always take `self` as the first parameter.\n",
    "- The `self` parameter is a reference to the **current instance** of the class and allows the method to access other attributes or methods within the class.\n",
    "\n",
    "#### Example: `Car` Class with Methods\n",
    "In the `Car` class example, we define two instance methods:\n",
    "\n",
    "1. **`display_info(self)`**:\n",
    "   - This method displays details about a car.\n",
    "   - It uses the `self` parameter to access the attributes (`make`, `model`, `forsale`) of the car.\n",
    "  \n",
    "   ```python\n",
    "   def display_info(self):\n",
    "       status = \"for sale\" if self.forsale else \"not for sale\"\n",
    "       print(f\"Make: {self.make}, Model: {self.model}, Status: {status}\")\n"
   ]
  },
  {
   "cell_type": "markdown",
   "metadata": {},
   "source": [
    "# Class Variables in Python\n",
    "\n",
    "## OOP3 folder\n",
    "\n",
    "## What is a Class Variable?\n",
    "A **class variable** is a variable that is shared across all instances of a class. This means that every object of the class will have the same value for this variable unless it is explicitly changed at the class level.\n",
    "\n",
    "Class variables are typically used to represent information or properties that are common to all instances of a class.\n",
    "\n",
    "### Characteristics of Class Variables\n",
    "- **Shared Among All Instances**: A class variable is shared among all instances of the class. If one instance modifies the class variable, the change is reflected across all other instances.\n",
    "- **Defined at Class Level**: Class variables are defined directly within the class, outside any methods.\n",
    "- **Accessed via Class or Instance**: They can be accessed using either the class name or an instance of the class.\n",
    "\n",
    "### Example: Car Class\n",
    "Consider the `Car` class where all cars have a common characteristic, like the number of wheels:\n",
    "\n",
    "```python\n",
    "class Car:\n",
    "    # Class variable - shared by all instances of Car\n",
    "    wheels = 4\n",
    "\n",
    "    def __init__(self, model, year):\n",
    "        self.model = model  # Instance variable - unique to each instance\n",
    "        self.year = year     # Instance variable - unique to each instance\n"
   ]
  },
  {
   "cell_type": "markdown",
   "metadata": {},
   "source": []
  },
  {
   "cell_type": "code",
   "execution_count": 1,
   "metadata": {},
   "outputs": [
    {
     "data": {
      "text/plain": [
       "500"
      ]
     },
     "execution_count": 1,
     "metadata": {},
     "output_type": "execute_result"
    }
   ],
   "source": [
    "# Assign attributes:\n",
    "item1 = \"Phone\"\n",
    "item1_price = 100\n",
    "item1_quantity = 5\n",
    "item_price_total = item1_price * item1_quantity\n",
    "item_price_total"
   ]
  },
  {
   "cell_type": "code",
   "execution_count": 2,
   "metadata": {},
   "outputs": [
    {
     "name": "stdout",
     "output_type": "stream",
     "text": [
      "<class 'str'>\n",
      "<class 'int'>\n",
      "<class 'int'>\n",
      "<class 'int'>\n"
     ]
    }
   ],
   "source": [
    "print(type(item1))\n",
    "print(type(item1_price))\n",
    "print(type(item1_quantity))\n",
    "print(type(item_price_total))"
   ]
  },
  {
   "cell_type": "markdown",
   "metadata": {},
   "source": [
    "# Constructor & `__init__`\n",
    "We will explore the concept of constructors in Python using the `__init__` method. We'll see how to initialize object attributes and create instances of classes with specific values."
   ]
  },
  {
   "cell_type": "code",
   "execution_count": 5,
   "metadata": {},
   "outputs": [
    {
     "name": "stdout",
     "output_type": "stream",
     "text": [
      "I am created\n",
      "I am created\n"
     ]
    }
   ],
   "source": [
    "class Item:\n",
    "    def __init__(self):\n",
    "        print(\"I am created\")\n",
    "\n",
    "x = Item()\n",
    "y = Item()"
   ]
  },
  {
   "cell_type": "code",
   "execution_count": 6,
   "metadata": {},
   "outputs": [
    {
     "name": "stdout",
     "output_type": "stream",
     "text": [
      "A new toy manufactured\n",
      "A new toy manufactured\n"
     ]
    }
   ],
   "source": [
    "class Toy:\n",
    "    def __init__(self):\n",
    "        print(\"A new toy manufactured\")\n",
    "\n",
    "asdf = Toy()\n",
    "qwer = Toy()"
   ]
  },
  {
   "cell_type": "code",
   "execution_count": 7,
   "metadata": {},
   "outputs": [
    {
     "name": "stdout",
     "output_type": "stream",
     "text": [
      "A new bike manufactured and my name is loop \n"
     ]
    }
   ],
   "source": [
    "class Bike:\n",
    "    def __init__(self, name):\n",
    "        print(f\"A new bike manufactured and my name is {name} \")\n",
    "\n",
    "asdf = Bike(\"loop\")"
   ]
  },
  {
   "cell_type": "code",
   "execution_count": null,
   "metadata": {},
   "outputs": [],
   "source": []
  }
 ],
 "metadata": {
  "kernelspec": {
   "display_name": "Python 3",
   "language": "python",
   "name": "python3"
  },
  "language_info": {
   "codemirror_mode": {
    "name": "ipython",
    "version": 3
   },
   "file_extension": ".py",
   "mimetype": "text/x-python",
   "name": "python",
   "nbconvert_exporter": "python",
   "pygments_lexer": "ipython3",
   "version": "3.10.0rc2"
  }
 },
 "nbformat": 4,
 "nbformat_minor": 2
}
