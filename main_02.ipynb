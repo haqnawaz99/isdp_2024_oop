{
 "cells": [
  {
   "cell_type": "markdown",
   "metadata": {},
   "source": [
    "# lecture 2 Constructor & _init_\n"
   ]
  },
  {
   "cell_type": "markdown",
   "id": "c472c8b2",
   "metadata": {},
   "source": [
    "# Lecture 2: Constructor & `__init__`\n",
    "In this lecture, we will explore the concept of constructors in Python using the `__init__` method. We'll see how to initialize object attributes and create instances of classes with specific values."
   ]
  },
  {
   "cell_type": "code",
   "execution_count": 1,
   "metadata": {},
   "outputs": [
    {
     "name": "stdout",
     "output_type": "stream",
     "text": [
      "I am created\n"
     ]
    }
   ],
   "source": [
    "class Item:\n",
    "    def __init__(self):\n",
    "        print(\"I am created\")\n",
    "\n",
    "x = Item()"
   ]
  },
  {
   "cell_type": "code",
   "execution_count": 10,
   "metadata": {},
   "outputs": [
    {
     "name": "stdout",
     "output_type": "stream",
     "text": [
      "A new toy manufactured\n",
      "A new toy manufactured\n"
     ]
    }
   ],
   "source": [
    "class Toy:\n",
    "    def __init__(self):\n",
    "        print(\"A new toy manufactured\")\n",
    "\n",
    "asdf = Toy()\n",
    "qwer = Toy()"
   ]
  },
  {
   "cell_type": "code",
   "execution_count": 12,
   "metadata": {},
   "outputs": [
    {
     "name": "stdout",
     "output_type": "stream",
     "text": [
      "A new bike manufactured and my name is loop \n"
     ]
    }
   ],
   "source": [
    "class Bike:\n",
    "    def __init__(self, name):\n",
    "        print(f\"A new bike manufactured and my name is {name} \")\n",
    "\n",
    "asdf = Bike(\"loop\")"
   ]
  },
  {
   "cell_type": "code",
   "execution_count": 14,
   "metadata": {},
   "outputs": [
    {
     "data": {
      "text/plain": [
       "72"
      ]
     },
     "execution_count": 14,
     "metadata": {},
     "output_type": "execute_result"
    }
   ],
   "source": [
    "def are_calculate(length, width):\n",
    "    return length * width\n",
    "\n",
    "area = are_calculate(8,9)\n",
    "area"
   ]
  },
  {
   "cell_type": "code",
   "execution_count": 13,
   "metadata": {},
   "outputs": [
    {
     "name": "stdout",
     "output_type": "stream",
     "text": [
      "A new bike manufactured and my name is honda and its model is 2020\n"
     ]
    }
   ],
   "source": [
    "class Bike:\n",
    "    def __init__(self, name, model):\n",
    "        print(f\"A new bike manufactured and my name is {name} and its model is {model}\")\n",
    "\n",
    "asdf = Bike(\"honda\",2020)"
   ]
  },
  {
   "cell_type": "code",
   "execution_count": 2,
   "metadata": {},
   "outputs": [
    {
     "name": "stdout",
     "output_type": "stream",
     "text": [
      "I am created\n",
      "500\n"
     ]
    }
   ],
   "source": [
    "class Item:\n",
    "    def __init__(self):\n",
    "        print(\"I am created\")\n",
    "    \n",
    "    def calculate_total_price(self, price, quantity):\n",
    "        return price * quantity\n",
    "\n",
    "# How to create an instance of a class\n",
    "item1 = Item()\n",
    "item1.name = \"Phone\"\n",
    "item1.price = 100\n",
    "item1.quantity = 5  \n",
    "\n",
    "print(item1.calculate_total_price(item1.price, item1.quantity))\n"
   ]
  },
  {
   "cell_type": "code",
   "execution_count": 3,
   "metadata": {},
   "outputs": [
    {
     "name": "stdout",
     "output_type": "stream",
     "text": [
      "I am created\n",
      "I am created\n",
      "500\n",
      "3000\n"
     ]
    }
   ],
   "source": [
    "class Item:\n",
    "    def __init__(self):\n",
    "        print(\"I am created\")\n",
    "    \n",
    "    def calculate_total_price(self, price, quantity):\n",
    "        return price * quantity\n",
    "\n",
    "# How to create an instance of a class\n",
    "item1 = Item()\n",
    "item1.name = \"Phone\"\n",
    "item1.price = 100\n",
    "item1.quantity = 5  \n",
    "\n",
    "\n",
    "item2 = Item()\n",
    "item2.name = \"Laptop\"\n",
    "item2.price = 1000\n",
    "item2.quantity = 3  \n",
    "\n",
    "print(item1.calculate_total_price(item1.price, item1.quantity))\n",
    "print(item2.calculate_total_price(item2.price, item2.quantity))"
   ]
  },
  {
   "cell_type": "markdown",
   "id": "2996d59e",
   "metadata": {},
   "source": [
    "## 1. Basic Constructor Without Parameters\n",
    "In the first example, we define a simple `Item` class with an `__init__` method that prints a message every time an object is created. This constructor doesn't take any parameters other than `self`, which refers to the instance being created."
   ]
  },
  {
   "cell_type": "code",
   "execution_count": 6,
   "metadata": {},
   "outputs": [
    {
     "name": "stdout",
     "output_type": "stream",
     "text": [
      "I am created. I am Phone\n",
      "I am created. I am vivo\n",
      "I am created. I am lenovo\n"
     ]
    }
   ],
   "source": [
    "class Item:\n",
    "    def __init__(self, name):\n",
    "        print(f\"I am created. I am {name}\")\n",
    "    \n",
    "    def calculate_total_price(self, price, quantity):\n",
    "        return price * quantity\n",
    "\n",
    "# How to create an instance of a class\n",
    "item1 = Item(\"Phone\")\n",
    "mobile = Item(\"vivo\")\n",
    "laptop = Item('lenovo')"
   ]
  },
  {
   "cell_type": "code",
   "execution_count": 8,
   "metadata": {},
   "outputs": [
    {
     "name": "stdout",
     "output_type": "stream",
     "text": [
      "I am created. I am Phone\n",
      "500\n"
     ]
    }
   ],
   "source": [
    "class Item:\n",
    "    def __init__(self, name):\n",
    "        print(f\"I am created. I am {name}\")\n",
    "    \n",
    "    def calculate_total_price(self, price, quantity):\n",
    "        return price * quantity\n",
    "\n",
    "# How to create an instance of a class\n",
    "item1 = Item(\"Phone\")\n",
    "# item1.name = \"Phone\"\n",
    "item1.price = 100\n",
    "item1.quantity = 5  \n",
    "\n",
    "print(item1.calculate_total_price(item1.price, item1.quantity))"
   ]
  },
  {
   "cell_type": "code",
   "execution_count": null,
   "metadata": {},
   "outputs": [],
   "source": [
    "class Item:\n",
    "    def __init__(self, name):\n",
    "        print(f\"I am created. I am {name}\")\n",
    "    \n",
    "    def calculate_total_price(self, price, quantity):\n",
    "        return price * quantity\n",
    "\n",
    "# How to create an instance of a class\n",
    "item1 = Item(\"Phone\")\n",
    "item1.name = \"Phone\"\n",
    "item1.price = 100\n",
    "item1.quantity = 5  \n",
    "\n",
    "\n",
    "item2 = Item(\"Laptop\")\n",
    "item2.name = \"Laptop\"\n",
    "item2.price = 1000\n",
    "item2.quantity = 3  \n",
    "\n",
    "print(item1.calculate_total_price(item1.price, item1.quantity))\n",
    "print(item2.calculate_total_price(item2.price, item2.quantity))"
   ]
  },
  {
   "cell_type": "markdown",
   "id": "b72e25d0",
   "metadata": {},
   "source": [
    "## 2. Constructor with a Single Parameter\n",
    "In the next example, we modify the constructor to accept a `name` parameter. This allows us to print the name of the item when it is created. This shows how constructors can be used to set initial values for object attributes."
   ]
  },
  {
   "cell_type": "code",
   "execution_count": 16,
   "metadata": {},
   "outputs": [
    {
     "name": "stdout",
     "output_type": "stream",
     "text": [
      "Phone\n",
      "Laptop\n",
      "100\n",
      "1000\n",
      "5\n",
      "3\n"
     ]
    }
   ],
   "source": [
    "class Item:\n",
    "    def __init__(self, name, price, quantity=0):\n",
    "        self.name = name\n",
    "        self.price = price\n",
    "        self.quantity = quantity\n",
    "\n",
    "\n",
    "# How to create an instance of a class\n",
    "item1 = Item(\"Phone\", 100, 5)   \n",
    "\n",
    "item2 = Item(\"Laptop\", 1000, 3)   \n",
    "\n",
    "print(item1.name)\n",
    "print(item2.name)\n",
    "print(item1.price)\n",
    "print(item2.price)  \n",
    "print(item1.quantity)   \n",
    "print(item2.quantity)"
   ]
  },
  {
   "cell_type": "markdown",
   "id": "9e33b59c",
   "metadata": {},
   "source": [
    "## 3. Constructor with Multiple Parameters\n",
    "We further enhance the `Item` class by adding `price` and `quantity` parameters to the constructor. This allows us to create objects with all necessary attributes initialized at the time of creation."
   ]
  },
  {
   "cell_type": "code",
   "execution_count": null,
   "metadata": {},
   "outputs": [],
   "source": [
    "class Item:\n",
    "    def __init__(self, name, price, quantity=0):\n",
    "        self.name = name\n",
    "        self.price = price\n",
    "        self.quantity = quantity\n",
    "    \n",
    "    def calculate_total_price(self):\n",
    "        return self.price * self.quantity\n",
    "\n",
    "# How to create an instance of a class\n",
    "item1 = Item(\"Phone\", \"100\", 5)   \n",
    "\n",
    "item2 = Item(\"Laptop\", 1000, 3)   \n",
    "\n",
    "print(item1.calculate_total_price())\n",
    "print(item2.calculate_total_price())"
   ]
  },
  {
   "cell_type": "code",
   "execution_count": 22,
   "metadata": {},
   "outputs": [
    {
     "name": "stdout",
     "output_type": "stream",
     "text": [
      "The Great Gatsby\n",
      "George Orwell\n",
      "We welcome youF. Scott Fitzgerald\n"
     ]
    }
   ],
   "source": [
    "class Book:\n",
    "    def __init__(self, title, author, pages):\n",
    "        self.title = title\n",
    "        self.author = author\n",
    "        self.pages = pages\n",
    "        \n",
    "    def welcome_author(self):\n",
    "        print(f\"We welcome you{self.author}\")\n",
    "\n",
    "# Creating instances of the Book class\n",
    "book1 = Book(\"The Great Gatsby\", \"F. Scott Fitzgerald\", 180)\n",
    "book2 = Book(\"1984\", \"George Orwell\", 328)\n",
    "\n",
    "# Accessing the attributes\n",
    "print(book1.title)  # Output: The Great Gatsby\n",
    "print(book2.author)  # Output: George Orwell\n",
    "\n",
    "book1.welcome_author()\n"
   ]
  },
  {
   "cell_type": "code",
   "execution_count": 18,
   "metadata": {},
   "outputs": [
    {
     "name": "stdout",
     "output_type": "stream",
     "text": [
      "Toyota\n",
      "2021\n"
     ]
    }
   ],
   "source": [
    "class Car:\n",
    "    def __init__(self, make, model, year):\n",
    "        self.make = make\n",
    "        self.model = model\n",
    "        self.year = year\n",
    "\n",
    "# Creating instances of the Car class\n",
    "car1 = Car(\"Toyota\", \"Corolla\", 2020)\n",
    "car2 = Car(\"Tesla\", \"Model S\", 2021)\n",
    "\n",
    "# Accessing the attributes\n",
    "print(car1.make)  # Output: Toyota\n",
    "print(car2.year)  # Output: 2021\n"
   ]
  },
  {
   "cell_type": "code",
   "execution_count": 19,
   "metadata": {},
   "outputs": [
    {
     "name": "stdout",
     "output_type": "stream",
     "text": [
      "John Doe\n",
      "95000\n"
     ]
    }
   ],
   "source": [
    "class Employee:\n",
    "    def __init__(self, name, position, salary):\n",
    "        self.name = name\n",
    "        self.position = position\n",
    "        self.salary = salary\n",
    "\n",
    "# Creating instances of the Employee class\n",
    "employee1 = Employee(\"John Doe\", \"Software Engineer\", 85000)\n",
    "employee2 = Employee(\"Jane Smith\", \"Data Scientist\", 95000)\n",
    "\n",
    "# Accessing the attributes\n",
    "print(employee1.name)  # Output: John Doe\n",
    "print(employee2.salary)  # Output: 95000\n"
   ]
  },
  {
   "cell_type": "code",
   "execution_count": 20,
   "metadata": {},
   "outputs": [
    {
     "name": "stdout",
     "output_type": "stream",
     "text": [
      "Indian\n",
      "4.8\n"
     ]
    }
   ],
   "source": [
    "class Restaurant:\n",
    "    def __init__(self, name, cuisine_type, rating):\n",
    "        self.name = name\n",
    "        self.cuisine_type = cuisine_type\n",
    "        self.rating = rating\n",
    "\n",
    "# Creating instances of the Restaurant class\n",
    "restaurant1 = Restaurant(\"The Spicy Grill\", \"Indian\", 4.5)\n",
    "restaurant2 = Restaurant(\"Sushi House\", \"Japanese\", 4.8)\n",
    "\n",
    "# Accessing the attributes\n",
    "print(restaurant1.cuisine_type)  # Output: Indian\n",
    "print(restaurant2.rating)  # Output: 4.8\n"
   ]
  },
  {
   "cell_type": "code",
   "execution_count": 21,
   "metadata": {},
   "outputs": [
    {
     "name": "stdout",
     "output_type": "stream",
     "text": [
      "Computer Science\n",
      "3.7\n"
     ]
    }
   ],
   "source": [
    "class Student:\n",
    "    def __init__(self, name, major, gpa):\n",
    "        self.name = name\n",
    "        self.major = major\n",
    "        self.gpa = gpa\n",
    "\n",
    "# Creating instances of the Student class\n",
    "student1 = Student(\"Alice Brown\", \"Computer Science\", 3.9)\n",
    "student2 = Student(\"Bob Green\", \"Mathematics\", 3.7)\n",
    "\n",
    "# Accessing the attributes\n",
    "print(student1.major)  # Output: Computer Science\n",
    "print(student2.gpa)  # Output: 3.7\n"
   ]
  },
  {
   "cell_type": "markdown",
   "id": "0cdf12d9",
   "metadata": {},
   "source": [
    "## 4. Using Methods with Initialized Attributes\n",
    "Finally, we modify the `calculate_total_price` method to use the attributes initialized by the constructor directly, instead of passing them as parameters. This demonstrates how methods can interact with object attributes."
   ]
  },
  {
   "cell_type": "code",
   "execution_count": null,
   "metadata": {},
   "outputs": [],
   "source": [
    "class Item:\n",
    "    def __init__(self, name: str, price: float, quantity=0):\n",
    "        self.name = name\n",
    "        self.price = price\n",
    "        self.quantity = quantity\n",
    "    \n",
    "    def calculate_total_price(self):\n",
    "        return self.price * self.quantity\n",
    "\n",
    "# How to create an instance of a class\n",
    "item1 = Item(\"Phone\", \"100\", 5)   \n",
    "\n",
    "item2 = Item(\"Laptop\", 1000, 3)   \n",
    "\n",
    "print(item1.calculate_total_price())\n",
    "print(item2.calculate_total_price())"
   ]
  },
  {
   "cell_type": "code",
   "execution_count": null,
   "metadata": {},
   "outputs": [],
   "source": [
    "class Item:\n",
    "    def __init__(self, name: str, price: float, quantity=0):\n",
    "        # Run the validations to the received arguments\n",
    "        assert price >= 0\n",
    "        assert quantity >=0\n",
    "\n",
    "        # Assign to self object\n",
    "        self.name = name\n",
    "        self.price = price\n",
    "        self.quantity = quantity\n",
    "    \n",
    "    def calculate_total_price(self):\n",
    "        return self.price * self.quantity\n",
    "\n",
    "# How to create an instance of a class\n",
    "item1 = Item(\"Phone\", 100, -5)   \n",
    "\n",
    "item2 = Item(\"Laptop\", 1000, 3)   \n",
    "\n",
    "print(item1.calculate_total_price())\n",
    "print(item2.calculate_total_price())"
   ]
  },
  {
   "cell_type": "code",
   "execution_count": null,
   "metadata": {},
   "outputs": [],
   "source": [
    "class Item:\n",
    "    def __init__(self, name: str, price: float, quantity=0):\n",
    "        # Run the validations to the received arguments\n",
    "        assert price >= 0, f\"Price {price} is not greater than or equal to zero!\"\n",
    "        assert quantity >=0, f\"Quantity {quantity} is not greater or equal to zero!\"\n",
    "\n",
    "        # Assign to self object\n",
    "        self.name = name\n",
    "        self.price = price\n",
    "        self.quantity = quantity\n",
    "    \n",
    "    def calculate_total_price(self):\n",
    "        return self.price * self.quantity\n",
    "\n",
    "# How to create an instance of a class\n",
    "item1 = Item(\"Phone\", 100, -5)   \n",
    "\n",
    "item2 = Item(\"Laptop\", 1000, 3)   \n",
    "\n",
    "print(item1.calculate_total_price())\n",
    "print(item2.calculate_total_price())"
   ]
  },
  {
   "cell_type": "code",
   "execution_count": null,
   "metadata": {},
   "outputs": [],
   "source": []
  }
 ],
 "metadata": {
  "kernelspec": {
   "display_name": "Python 3",
   "language": "python",
   "name": "python3"
  },
  "language_info": {
   "codemirror_mode": {
    "name": "ipython",
    "version": 3
   },
   "file_extension": ".py",
   "mimetype": "text/x-python",
   "name": "python",
   "nbconvert_exporter": "python",
   "pygments_lexer": "ipython3",
   "version": "3.10.0"
  }
 },
 "nbformat": 4,
 "nbformat_minor": 2
}
